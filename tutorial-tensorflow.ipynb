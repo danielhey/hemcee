{
 "cells": [
  {
   "cell_type": "code",
   "execution_count": 1,
   "metadata": {},
   "outputs": [],
   "source": [
    "%matplotlib inline\n",
    "%config IPython.matplotlib.backend = \"retina\"\n",
    "from matplotlib import rcParams\n",
    "rcParams[\"figure.dpi\"] = 150\n",
    "rcParams[\"savefig.dpi\"] = 150"
   ]
  },
  {
   "cell_type": "code",
   "execution_count": 2,
   "metadata": {},
   "outputs": [
    {
     "name": "stderr",
     "output_type": "stream",
     "text": [
      "/Users/dforeman/anaconda/lib/python3.6/site-packages/h5py/__init__.py:36: FutureWarning: Conversion of the second argument of issubdtype from `float` to `np.floating` is deprecated. In future, it will be treated as `np.float64 == np.dtype(float).type`.\n",
      "  from ._conv import register_converters as _register_converters\n"
     ]
    }
   ],
   "source": [
    "import numpy as np\n",
    "import matplotlib.pyplot as plt\n",
    "\n",
    "import tensorflow as tf\n",
    "\n",
    "import hemcee"
   ]
  },
  {
   "cell_type": "markdown",
   "metadata": {},
   "source": [
    "This demo is the same as the one in `tutorial.ipynb`, but using TensorFlow to define the model instead of computing the gradients by hand."
   ]
  },
  {
   "cell_type": "code",
   "execution_count": 3,
   "metadata": {},
   "outputs": [
    {
     "name": "stdout",
     "output_type": "stream",
     "text": [
      "Initial log prob: -3.3953190610195154\n",
      "Initial gradient: [array([-0.59580213, -3.94052527,  0.78562519,  1.59169155,  0.25427602,\n",
      "       -2.21061287,  1.70559426,  0.26855219, -1.17491634, -2.06235095])]\n"
     ]
    }
   ],
   "source": [
    "# Generate a random covariance matrix\n",
    "np.random.seed(42)\n",
    "ndim = 10\n",
    "L = np.random.randn(ndim, ndim)\n",
    "L[np.diag_indices_from(L)] = np.exp(L[np.diag_indices_from(L)])\n",
    "L[np.triu_indices_from(L, 1)] = 0.0\n",
    "cov = np.dot(L, L.T)\n",
    "\n",
    "params = tf.Variable(np.random.multivariate_normal(np.zeros(ndim), cov), dtype=tf.float64)\n",
    "\n",
    "log_prob = -0.5 * tf.reduce_sum(params * tf.cholesky_solve(L, params[:, None])[:, 0])\n",
    "\n",
    "with tf.Session() as session:\n",
    "    session.run(tf.global_variables_initializer())\n",
    "    print(\"Initial log prob: {0}\".format(session.run(log_prob)))\n",
    "    print(\"Initial gradient: {0}\".format(\n",
    "        session.run(tf.gradients(log_prob, params))))"
   ]
  },
  {
   "cell_type": "markdown",
   "metadata": {},
   "source": [
    "There is one step that is needed to wrap TensorFlow models for use with hemcee.\n",
    "I normally define a class like this:"
   ]
  },
  {
   "cell_type": "code",
   "execution_count": 4,
   "metadata": {},
   "outputs": [],
   "source": [
    "class TFModel(object):\n",
    "    \"\"\"A wrapper to expose TensorFlow models to Python interfaces\n",
    "    \n",
    "    Args:\n",
    "        target: A tensor with the target log probability or cost\n",
    "        var_list: A list of tensors or variables that should be fit\n",
    "        feed_dict (optional): Any feed dict that should be used\n",
    "        session (optional): The current session\n",
    "    \n",
    "    \"\"\"\n",
    "    def __init__(self, target, var_list, feed_dict=None, session=None):\n",
    "        self.target = target\n",
    "        self.var_list = var_list\n",
    "        self.grad_target = tf.gradients(self.target, self.var_list)\n",
    "        self.feed_dict = {} if feed_dict is None else feed_dict\n",
    "        self._session = session\n",
    "\n",
    "    @property\n",
    "    def session(self):\n",
    "        if self._session is None:\n",
    "            return tf.get_default_session()\n",
    "        return self._session\n",
    "\n",
    "    def value(self, vector):\n",
    "        feed_dict = self.vector_to_feed_dict(vector)\n",
    "        return self.session.run(self.target, feed_dict=feed_dict)\n",
    "\n",
    "    def gradient(self, vector):\n",
    "        feed_dict = self.vector_to_feed_dict(vector)\n",
    "        return np.concatenate([\n",
    "            np.reshape(g, s) for s, g in zip(\n",
    "                self.sizes,\n",
    "                self.session.run(self.grad_target, feed_dict=feed_dict))\n",
    "        ])\n",
    "\n",
    "    def setup(self, session=None):\n",
    "        if session is not None:\n",
    "            self._session = session\n",
    "        values = self.session.run(self.var_list)\n",
    "        self.sizes = [np.size(v) for v in values]\n",
    "        self.shapes = [np.shape(v) for v in values]\n",
    "\n",
    "    def vector_to_feed_dict(self, vector):\n",
    "        i = 0\n",
    "        fd = dict(self.feed_dict)\n",
    "        for var, size, shape in zip(self.var_list, self.sizes, self.shapes):\n",
    "            fd[var] = np.reshape(vector[i:i+size], shape)\n",
    "            i += size\n",
    "        return fd\n",
    "\n",
    "    def feed_dict_to_vector(self, feed_dict):\n",
    "        return np.concatenate([\n",
    "            np.reshape(feed_dict[v], s)\n",
    "            for v, s in zip(self.var_list, self.sizes)])\n",
    "\n",
    "    def current_vector(self):\n",
    "        values = self.session.run(self.var_list)\n",
    "        return np.concatenate([\n",
    "            np.reshape(v, s)\n",
    "            for v, s in zip(values, self.sizes)])"
   ]
  },
  {
   "cell_type": "markdown",
   "metadata": {},
   "source": [
    "Then to wrap the model, I would use this syntax:"
   ]
  },
  {
   "cell_type": "code",
   "execution_count": 5,
   "metadata": {},
   "outputs": [
    {
     "name": "stdout",
     "output_type": "stream",
     "text": [
      "Model value: -3.3953190610195154\n",
      "Model gradient: [-0.59580213 -3.94052527  0.78562519  1.59169155  0.25427602 -2.21061287\n",
      "  1.70559426  0.26855219 -1.17491634 -2.06235095]\n"
     ]
    }
   ],
   "source": [
    "session = tf.InteractiveSession()\n",
    "session.run(tf.global_variables_initializer())\n",
    "\n",
    "model = TFModel(log_prob, var_list=[params])\n",
    "model.setup()\n",
    "\n",
    "coords = model.current_vector()\n",
    "print(\"Model value: {0}\".format(model.value(coords)))\n",
    "print(\"Model gradient: {0}\".format(model.gradient(coords)))"
   ]
  },
  {
   "cell_type": "markdown",
   "metadata": {},
   "source": [
    "The value and gradients here should be the same as the ones that you got above.\n",
    "\n",
    "Then we set up the sampler using this model:"
   ]
  },
  {
   "cell_type": "code",
   "execution_count": 6,
   "metadata": {},
   "outputs": [],
   "source": [
    "# Choose a dense metric that we will tune\n",
    "metric = hemcee.metric.DenseMetric(np.eye(ndim))\n",
    "\n",
    "# We will also tune the step size\n",
    "step = hemcee.step_size.VariableStepSize()\n",
    "\n",
    "# Set up the sampler\n",
    "sampler = hemcee.NoUTurnSampler(model.value, model.gradient, step_size=step, metric=metric)"
   ]
  },
  {
   "cell_type": "markdown",
   "metadata": {},
   "source": [
    "All Hamiltonian samplers require a tuning phase (often called \"warmup\" or \"burn in\").\n",
    "During this phase, the step size and metric are automatically tuned:"
   ]
  },
  {
   "cell_type": "code",
   "execution_count": 7,
   "metadata": {},
   "outputs": [
    {
     "name": "stderr",
     "output_type": "stream",
     "text": [
      "initial warm up: step_size: 1.6e-02; mean(accept_stat): 0.479: 100%|██████████| 100/100 [00:01<00:00, 85.78it/s]\n",
      "warm up 1/8: step_size: 4.6e-02; mean(accept_stat): 0.476: 100%|██████████| 25/25 [00:00<00:00, 71.05it/s]\n",
      "warm up 2/8: step_size: 2.5e+00; mean(accept_stat): 0.486: 100%|██████████| 25/25 [00:00<00:00, 81.00it/s]\n",
      "warm up 3/8: step_size: 4.0e-01; mean(accept_stat): 0.498: 100%|██████████| 50/50 [00:00<00:00, 87.97it/s]\n",
      "warm up 4/8: step_size: 6.6e-01; mean(accept_stat): 0.497: 100%|██████████| 100/100 [00:00<00:00, 160.43it/s]\n",
      "warm up 5/8: step_size: 1.2e+00; mean(accept_stat): 0.496: 100%|██████████| 200/200 [00:00<00:00, 204.55it/s]\n",
      "warm up 6/8: step_size: 1.1e+00; mean(accept_stat): 0.500: 100%|██████████| 400/400 [00:01<00:00, 229.00it/s]\n",
      "warm up 7/8: step_size: 1.3e+00; mean(accept_stat): 0.500: 100%|██████████| 800/800 [00:03<00:00, 235.60it/s]\n",
      "warm up 8/8: step_size: 1.4e+00; mean(accept_stat): 0.500: 100%|██████████| 3200/3200 [00:13<00:00, 241.38it/s]\n",
      "final warm up: step_size: 2.0e+00; mean(accept_stat): 0.496: 100%|██████████| 100/100 [00:00<00:00, 189.85it/s]\n"
     ]
    }
   ],
   "source": [
    "coords = np.random.randn(ndim)\n",
    "results = sampler.run_warmup(coords, 5000)"
   ]
  },
  {
   "cell_type": "markdown",
   "metadata": {},
   "source": [
    "After burning in, we can run the production MCMC chain:"
   ]
  },
  {
   "cell_type": "code",
   "execution_count": 8,
   "metadata": {},
   "outputs": [
    {
     "name": "stderr",
     "output_type": "stream",
     "text": [
      "step_size: 9.5e-01; mean(accept_stat): 0.662: 100%|██████████| 5000/5000 [00:15<00:00, 333.11it/s]\n"
     ]
    }
   ],
   "source": [
    "coords_chain, logprob_chain = sampler.run_mcmc(results[0], 5000, initial_log_prob=results[1])"
   ]
  },
  {
   "cell_type": "markdown",
   "metadata": {},
   "source": [
    "Now, let's check the autocorrelation times:"
   ]
  },
  {
   "cell_type": "code",
   "execution_count": 9,
   "metadata": {},
   "outputs": [
    {
     "name": "stdout",
     "output_type": "stream",
     "text": [
      "Mean autocorrelation time: 1.0948805038155338\n"
     ]
    }
   ],
   "source": [
    "taus = np.array([hemcee.autocorr.integrated_time(coords_chain[:, i])[0] for i in range(ndim)])\n",
    "print(\"Mean autocorrelation time: {0}\".format(np.mean(taus)))"
   ]
  },
  {
   "cell_type": "markdown",
   "metadata": {},
   "source": [
    "**Tip:** Reparameterization can often help sampling.\n",
    "For example, if you have a parameter that is bounded in the range `(a, b)`, you can often get better performance by changing variables to one where the parameter has infinite support.\n",
    "One way to do this with TensorFlow is:"
   ]
  },
  {
   "cell_type": "code",
   "execution_count": 10,
   "metadata": {},
   "outputs": [
    {
     "data": {
      "image/png": "[encoded data removed]",
      "text/plain": [
       "<Figure size 900x600 with 1 Axes>"
      ]
     },
     "metadata": {},
     "output_type": "display_data"
    }
   ],
   "source": [
    "def get_bounded_for_value(value, min_value, max_value):\n",
    "    if np.any(value <= min_value) or np.any(value >= max_value):\n",
    "        raise ValueError(\"value must be in the range (min_value, max_value)\")\n",
    "    return np.log(value - min_value) - np.log(max_value - value)\n",
    "\n",
    "def get_value_for_bounded(param, min_value, max_value):\n",
    "    return min_value + (max_value - min_value) / (1.0 + np.exp(-param))\n",
    "\n",
    "def get_bounded_variable(name, value, min_value, max_value, dtype=tf.float64):\n",
    "    param = tf.Variable(get_bounded_for_value(value, min_value, max_value), dtype=dtype, name=name + \"_param\")\n",
    "    var = min_value + (max_value - min_value) / (1.0 + tf.exp(-param))\n",
    "    log_jacobian = tf.log(var - min_value) + tf.log(max_value - var) - np.log(max_value - min_value)\n",
    "    return param, var, tf.reduce_sum(log_jacobian), (min_value, max_value)\n",
    "\n",
    "# When doing reparameterizations, it can be useful to accumulate the prior\n",
    "log_prior = tf.constant(0.0, dtype=tf.float64)\n",
    "\n",
    "# Let's create a variable that is bounded between zero and one:\n",
    "param, variable, log_jacobian, bounds = get_bounded_variable(\"bounded\", 0.5, 0, 1)\n",
    "\n",
    "# Don't forget to include the Jacobian of the transformation in the prior\n",
    "log_prior += log_jacobian\n",
    "\n",
    "param_values = np.linspace(-10, 10, 500)\n",
    "variable_values = get_value_for_bounded(param_values, *bounds)\n",
    "log_jac = [session.run(log_jacobian, feed_dict={param: p}) for p in param_values]\n",
    "\n",
    "plt.plot(param_values, np.exp(log_jac) / np.exp(np.max(log_jac)), label=\"relative prior\")\n",
    "plt.plot(param_values, variable_values, label=\"parameter value\")\n",
    "plt.legend()\n",
    "plt.xlabel(\"transformed parameter value\")\n",
    "plt.ylabel(\"original parameter; prior\");"
   ]
  },
  {
   "cell_type": "code",
   "execution_count": null,
   "metadata": {},
   "outputs": [],
   "source": []
  }
 ],
 "metadata": {
  "kernelspec": {
   "display_name": "Python 3",
   "language": "python",
   "name": "python3"
  },
  "language_info": {
   "codemirror_mode": {
    "name": "ipython",
    "version": 3
   },
   "file_extension": ".py",
   "mimetype": "text/x-python",
   "name": "python",
   "nbconvert_exporter": "python",
   "pygments_lexer": "ipython3",
   "version": "3.6.1"
  }
 },
 "nbformat": 4,
 "nbformat_minor": 2
}
